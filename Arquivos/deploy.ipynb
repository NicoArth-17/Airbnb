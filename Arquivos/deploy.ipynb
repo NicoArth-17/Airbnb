{
 "cells": [
  {
   "cell_type": "code",
   "execution_count": 1,
   "metadata": {},
   "outputs": [
    {
     "name": "stdout",
     "output_type": "stream",
     "text": [
      "Index(['Unnamed: 0', 'host_is_superhost', 'host_total_listings_count',\n",
      "       'latitude', 'longitude', 'accommodates', 'bathrooms', 'bedrooms',\n",
      "       'beds', 'extra_people', 'minimum_nights', 'number_of_reviews',\n",
      "       'instant_bookable', 'mes', 'ano', 'qntd_amenities',\n",
      "       'property_type_Apartment', 'property_type_Bed and breakfast',\n",
      "       'property_type_Condominium', 'property_type_Guest suite',\n",
      "       'property_type_Guesthouse', 'property_type_Hostel',\n",
      "       'property_type_House', 'property_type_Loft', 'property_type_Outros',\n",
      "       'property_type_Serviced apartment', 'room_type_Entire home/apt',\n",
      "       'room_type_Hotel room', 'room_type_Private room',\n",
      "       'room_type_Shared room', 'bed_type_Airbed', 'bed_type_Couch',\n",
      "       'bed_type_Futon', 'bed_type_Pull-out Sofa', 'bed_type_Real Bed',\n",
      "       'cancellation_policy_Estritos', 'cancellation_policy_flexible',\n",
      "       'cancellation_policy_moderate',\n",
      "       'cancellation_policy_strict_14_with_grace_period'],\n",
      "      dtype='object')\n"
     ]
    }
   ],
   "source": [
    "import pandas as pd\n",
    "\n",
    "# Printando as colunas para selecionar a separação dos dados em novos dicionários\n",
    "dados_df = pd.read_csv('DadosFinais.csv')\n",
    "print(dados_df.columns)"
   ]
  },
  {
   "cell_type": "code",
   "execution_count": 3,
   "metadata": {},
   "outputs": [],
   "source": [
    "dados_numericos = {'host_total_listings_count', 'latitude', 'longitude', 'accommodates', 'bathrooms', 'bedrooms', 'beds', 'extra_people', 'minimum_nights', 'number_of_reviews', 'mes', 'ano', 'qntd_amenities'}\n",
    "\n",
    "dados_bool = {'host_is_superhost', 'instant_bookable'}\n",
    "\n",
    "dados_classificatorios = {'property_type': ['Apartment', 'Bed and breakfast', 'Condominium', 'Guest suite', 'Guesthouse', 'Hostel', 'House', 'Loft', 'Outros', 'Serviced apartment'], 'room_type': ['Entire home/apt', 'Hotel room', 'Private room', 'Shared room'], 'bed_type': ['Airbed', 'Couch', 'Futon', 'Pull-out Sofa', 'Real Bed'], 'cancellation_policy': ['Estritos', 'flexible', 'moderate', 'strict_14_with_grace_period']}"
   ]
  },
  {
   "cell_type": "markdown",
   "metadata": {},
   "source": [
    "# Continuação arquivo deploy.py"
   ]
  }
 ],
 "metadata": {
  "kernelspec": {
   "display_name": "Python 3",
   "language": "python",
   "name": "python3"
  },
  "language_info": {
   "codemirror_mode": {
    "name": "ipython",
    "version": 3
   },
   "file_extension": ".py",
   "mimetype": "text/x-python",
   "name": "python",
   "nbconvert_exporter": "python",
   "pygments_lexer": "ipython3",
   "version": "3.11.1"
  },
  "orig_nbformat": 4
 },
 "nbformat": 4,
 "nbformat_minor": 2
}
